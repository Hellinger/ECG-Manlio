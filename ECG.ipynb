{
 "cells": [
  {
   "cell_type": "code",
   "execution_count": null,
   "metadata": {},
   "outputs": [],
   "source": [
    "import numpy as np\n",
    "import pandas as pd\n",
    "import scipy.signal\n",
    "from scipy.interpolate import CubicSpline\n",
    "import matplotlib.pyplot as plt\n",
    "import cmath\n",
    "%matplotlib inline"
   ]
  },
  {
   "cell_type": "code",
   "execution_count": null,
   "metadata": {},
   "outputs": [],
   "source": [
    "file_list = ['/home/charles/ECG-Manlio/training data/' + str(i) + '.txt' for i in range(1,31)]"
   ]
  },
  {
   "cell_type": "code",
   "execution_count": null,
   "metadata": {},
   "outputs": [],
   "source": [
    "def read_ECG_from_txt(files):\n",
    "    n = len(files)\n",
    "    ecg_info = []\n",
    "    ecg_signals = np.zeros((n, 12, 5000))\n",
    "    k = 0 #count file number\n",
    "    for filename in files:\n",
    "        with open(filename) as f:\n",
    "            lines = [line.rstrip('\\n') for line in f]\n",
    "            ecg_info.append(lines[:20])\n",
    "            ecg_signals[k, :, :].flat[:] = lines[20:]\n",
    "        k = k + 1\n",
    "    return ecg_info, ecg_signals"
   ]
  },
  {
   "cell_type": "code",
   "execution_count": null,
   "metadata": {},
   "outputs": [],
   "source": [
    "ecg_info, ecg_signals = read_ECG_from_txt(file_list)"
   ]
  },
  {
   "cell_type": "code",
   "execution_count": null,
   "metadata": {},
   "outputs": [],
   "source": [
    "ecg_signals = np.delete(ecg_signals, [2,3,4,5], 1)"
   ]
  },
  {
   "cell_type": "code",
   "execution_count": null,
   "metadata": {},
   "outputs": [],
   "source": [
    "ecg_signals.shape"
   ]
  },
  {
   "cell_type": "code",
   "execution_count": null,
   "metadata": {},
   "outputs": [],
   "source": [
    "t = np.array(range(5000))*0.002\n",
    "for j in range(8):\n",
    "    plt.figure(figsize=[20,10])\n",
    "    plt.plot(t, ecg_signals[0, j, :])\n",
    "    plt.show()"
   ]
  },
  {
   "cell_type": "code",
   "execution_count": null,
   "metadata": {},
   "outputs": [],
   "source": [
    "# sg = scipy.signal.savgol_filter(ecg_signals[0,0,:], 333, 1, mode='wrap')\n",
    "# plt.figure(figsize=[36,6])\n",
    "# plt.plot(t, sg)\n",
    "# plt.plot(t, ecg_signals[0,0,:])\n",
    "# plt.plot(t, ecg_signals[0,0,:] - sg)\n",
    "# plt.grid()"
   ]
  },
  {
   "cell_type": "code",
   "execution_count": null,
   "metadata": {},
   "outputs": [],
   "source": [
    "# sg = scipy.signal.savgol_filter(ecg_signals[0,6,:], 333, 1)\n",
    "# plt.figure(figsize=[36,6])\n",
    "# plt.plot(t, sg)\n",
    "# plt.plot(t, ecg_signals[0,6,:])\n",
    "# plt.plot(t, ecg_signals[0,6,:] - sg)\n",
    "# plt.grid()"
   ]
  },
  {
   "cell_type": "code",
   "execution_count": null,
   "metadata": {},
   "outputs": [],
   "source": [
    "# m = np.median(ecg_signals[0,0,:])\n",
    "# new_ecg_signals = ecg_signals[0,0,:] - m\n",
    "# p = np.polyfit(t, new_ecg_signals, 4)\n",
    "# poly4 = np.polyval(p, t)\n",
    "# new_ecg_signals = new_ecg_signals - poly4"
   ]
  },
  {
   "cell_type": "code",
   "execution_count": null,
   "metadata": {},
   "outputs": [],
   "source": [
    "# plt.figure(figsize=[36,6])\n",
    "# plt.plot(t, ecg_signals[0,0,:])\n",
    "# plt.plot(t, poly4)\n",
    "# sg4 = scipy.signal.savgol_filter(ecg_signals[0,0,:], 333, 1)\n",
    "# plt.plot(t, sg4)"
   ]
  },
  {
   "cell_type": "code",
   "execution_count": null,
   "metadata": {},
   "outputs": [],
   "source": [
    "def high_pass_filter(signal, order, cutoff, fs):\n",
    "    nyq = 0.5 * fs\n",
    "    normal_cutoff = cutoff/nyq\n",
    "    b, a = scipy.signal.butter(order, normal_cutoff, btype='high')\n",
    "    filtered_signal = scipy.signal.filtfilt(b, a, signal)\n",
    "    return filtered_signal"
   ]
  },
  {
   "cell_type": "code",
   "execution_count": null,
   "metadata": {},
   "outputs": [],
   "source": [
    "# filtered = high_pass_filter(ecg_signals[0,0,:], 5, 1.5, 500)\n",
    "# plt.figure(figsize=[36,6])\n",
    "# plt.plot(t, filtered)\n",
    "# plt.plot(t, ecg_signals[0,0,:])\n",
    "# plt.grid()\n",
    "# plt.show()"
   ]
  },
  {
   "cell_type": "code",
   "execution_count": null,
   "metadata": {},
   "outputs": [],
   "source": [
    "# filtered = high_pass_filter(ecg_signals[0,6,:], 5, 1.5, 500)\n",
    "# plt.figure(figsize=[36,6])\n",
    "# plt.plot(t, filtered)\n",
    "# plt.plot(t, ecg_signals[0,6,:])\n",
    "# plt.grid()\n",
    "# plt.show()"
   ]
  },
  {
   "cell_type": "code",
   "execution_count": null,
   "metadata": {},
   "outputs": [],
   "source": [
    "# filtered = high_pass_filter(ecg_signals[20,0,:], 5, 1, 500)\n",
    "# plt.figure(figsize=[36,6])\n",
    "# plt.plot(t, filtered)\n",
    "# plt.plot(t, ecg_signals[20,0,:])\n",
    "# plt.grid()\n",
    "# plt.show()"
   ]
  },
  {
   "cell_type": "code",
   "execution_count": null,
   "metadata": {},
   "outputs": [],
   "source": [
    "# filtered_ecg_signals = np.zeros((30, 8, 5000))\n",
    "# n1 = np.zeros((30))\n",
    "\n",
    "# for i in range(30):\n",
    "#     n_peaks = []\n",
    "#     for j in range(8):\n",
    "#         filtered_signal = high_pass_filter(ecg_signals[i,j,:],5,1,500)\n",
    "#         m = filtered_signal.max() * 0.5\n",
    "#         peaks, _ = scipy.signal.find_peaks(filtered_signal, height=m)\n",
    "#         n_peaks.append(len(peaks))\n",
    "#     n1[i] = scipy.stats.mode(n_peaks)[0][0]\n",
    "#     for k in range(8):\n",
    "#         filtered_ecg_signals[i,k,:] = high_pass_filter(ecg_signals[i,k,:], 5, n1[i]/10, 500)"
   ]
  },
  {
   "cell_type": "code",
   "execution_count": null,
   "metadata": {},
   "outputs": [],
   "source": [
    "# filtered_ecg_signals = np.zeros((30, 8, 5000))\n",
    "# n2 = np.zeros((30))\n",
    "\n",
    "# for i in range(30):\n",
    "#     n_peaks = []\n",
    "#     for j in range(8):\n",
    "#         filtered_signal = high_pass_filter(ecg_signals[i,j,:],5,1,500)\n",
    "#         m = filtered_signal.max() * 0.75\n",
    "#         peaks, _ = scipy.signal.find_peaks(filtered_signal, height=m)\n",
    "#         n_peaks.append(len(peaks))\n",
    "#     n2[i] = scipy.stats.mode(n_peaks)[0][0]\n",
    "#     for k in range(8):\n",
    "#         filtered_ecg_signals[i,k,:] = high_pass_filter(ecg_signals[i,k,:], 5, n2[i]/10, 500)"
   ]
  },
  {
   "cell_type": "code",
   "execution_count": null,
   "metadata": {},
   "outputs": [],
   "source": [
    "def autocorr(signal):\n",
    "    return np.correlate(signal, signal, mode='full')"
   ]
  },
  {
   "cell_type": "code",
   "execution_count": null,
   "metadata": {},
   "outputs": [],
   "source": [
    "def root_sum_square(array):\n",
    "    return np.sqrt(np.sum(array[:] ** 2)) "
   ]
  },
  {
   "cell_type": "code",
   "execution_count": null,
   "metadata": {},
   "outputs": [],
   "source": [
    "filtered_ecg_signals = np.zeros((30, 8, 5000))\n",
    "n = np.zeros((30))\n",
    "\n",
    "autocorr_t = np.array(range(-4999,5000))*0.002\n",
    "autocorr_signal = np.zeros((30,8,9999))\n",
    "autocorr_auc = np.zeros((30,8))\n",
    "\n",
    "for i in range(30):\n",
    "    n_peaks = []\n",
    "    for j in range(8):\n",
    "        filtered_signal = high_pass_filter(ecg_signals[i,j,:],5,1,500)\n",
    "        if abs(filtered_signal.min()) > filtered_signal.max():\n",
    "            filtered_signal = - 1 * filtered_signal\n",
    "        m = filtered_signal.max() * 0.5\n",
    "        peaks, _ = scipy.signal.find_peaks(filtered_signal, height=m)\n",
    "        n_peaks.append(len(peaks))\n",
    "    n[i] = scipy.stats.mode(n_peaks)[0][0]\n",
    "    for k in range(8):\n",
    "        filtered_ecg_signals[i,k,:] = high_pass_filter(ecg_signals[i,k,:], 5, n[i]/10, 500)\n",
    "        autocorr_signal[i,k,:] = autocorr(filtered_ecg_signals[i,k,:])\n",
    "        autocorr_signal[i,k,:] = autocorr_signal[i,k,:] / root_sum_square(autocorr_signal[i,k,:])\n",
    "        autocorr_auc[i,k] = scipy.integrate.simps(abs(autocorr_signal[i,k,:]), autocorr_t)"
   ]
  },
  {
   "cell_type": "code",
   "execution_count": null,
   "metadata": {},
   "outputs": [],
   "source": [
    "n"
   ]
  },
  {
   "cell_type": "code",
   "execution_count": null,
   "metadata": {},
   "outputs": [],
   "source": [
    "for i in range(30):\n",
    "    plt.plot(autocorr_t, autocorr_signal[i,0,:])\n",
    "    plt.show()"
   ]
  },
  {
   "cell_type": "code",
   "execution_count": null,
   "metadata": {},
   "outputs": [],
   "source": [
    "def Fourier_transform(freq, time, signal):\n",
    "    assert isinstance(freq, np.ndarray)\n",
    "    ft_result = np.zeros(freq.shape, dtype=complex)\n",
    "    for l in range(len(freq)):\n",
    "        s = 0\n",
    "        for k in range(2, len(time)):\n",
    "            s += ((signal[k] - signal[k-1]) / (time[k] - time[k-1])) * (cmath.exp(-1j*freq[l]*time[k-1]) - cmath.exp(-1j*freq[l]*time[k]))\n",
    "        ft_signal = - (freq[l] * 1j + (1 - cmath.exp(- 1j * freq[l] * time[1])) * (signal[1] - 1) / time[1] + s) / freq[l]**2\n",
    "        ft_result[l] = ft_signal\n",
    "    return np.multiply(ft_result, freq) * 1j"
   ]
  },
  {
   "cell_type": "code",
   "execution_count": null,
   "metadata": {},
   "outputs": [],
   "source": [
    "def cs_oversample(t, signal, factor):\n",
    "    cs_interpolator = CubicSpline(t, signal)\n",
    "    num = len(t) * factor\n",
    "    oversampled_t = np.linspace(0,10,num=num,endpoint=False)\n",
    "    interpolated_signal = cs_interpolator(oversampled_t)\n",
    "    return oversampled_t, interpolated_signal"
   ]
  },
  {
   "cell_type": "code",
   "execution_count": null,
   "metadata": {},
   "outputs": [],
   "source": [
    "ft_autocorr_signal = np.zeros((30,8,10000))\n",
    "freq = np.array([0.1 * w for w in range(1,10001)])\n",
    "\n",
    "for i in range(30):\n",
    "    for j in range(8):\n",
    "        oversampled_t, interpolated_signal = cs_oversample(t, autocorr_signal[i,j,4999:], 4)\n",
    "        ft_autocorr_signal[i,j] = Fourier_transform(freq, oversampled_t, interpolated_signal)\n",
    "        print(str(i)+','+str(j)+'finished')"
   ]
  },
  {
   "cell_type": "code",
   "execution_count": null,
   "metadata": {},
   "outputs": [],
   "source": [
    "a,b = cs_oversample(t, autocorr_signal[0,0,4999:],4)"
   ]
  },
  {
   "cell_type": "code",
   "execution_count": null,
   "metadata": {},
   "outputs": [],
   "source": [
    "Fourier_transform(freq, a, b)"
   ]
  },
  {
   "cell_type": "code",
   "execution_count": null,
   "metadata": {},
   "outputs": [],
   "source": []
  }
 ],
 "metadata": {
  "kernelspec": {
   "display_name": "Python 3",
   "language": "python",
   "name": "python3"
  },
  "language_info": {
   "codemirror_mode": {
    "name": "ipython",
    "version": 3
   },
   "file_extension": ".py",
   "mimetype": "text/x-python",
   "name": "python",
   "nbconvert_exporter": "python",
   "pygments_lexer": "ipython3",
   "version": "3.6.3"
  }
 },
 "nbformat": 4,
 "nbformat_minor": 2
}
